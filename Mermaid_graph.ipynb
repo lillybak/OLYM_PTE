flowchart TD
    Start[Start]
    Retrieve[Retrieve]
    CheckContext[Check Context]
    Generate[Generate]
    FactCheck[Fact Check]
    End[End]

    Start --> Retrieve
    Retrieve --> CheckContext
    CheckContext -->|has context| Generate
    CheckContext -->|no context| End
    Generate --> FactCheck
    FactCheck -->|pass| End
    FactCheck -->|fail| Generate
