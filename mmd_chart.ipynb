{
 "cells": [
  {
   "cell_type": "markdown",
   "id": "39584379",
   "metadata": {},
   "source": [
    "flowchart TD\n",
    "\n",
    "    Start([Start]) --> Retrieve\n",
    "    Retrieve[Retrieve] --> CheckContext\n",
    "    CheckContext[Check Context] -->|has context| Generate\n",
    "    CheckContext[Check Context] -->|no context| End\n",
    "    Generate[Generate] --> FactCheck[Fast Check]\n",
    "    FactCheck[Fast Check] -->|pass| End[End]\n",
    "    FactCheck -->|fail| Generate [Generate]"
   ]
  }
 ],
 "metadata": {
  "language_info": {
   "name": "python"
  }
 },
 "nbformat": 4,
 "nbformat_minor": 5
}
